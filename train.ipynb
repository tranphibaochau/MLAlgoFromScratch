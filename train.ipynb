{
 "cells": [
  {
   "cell_type": "code",
   "execution_count": 1,
   "metadata": {
    "collapsed": true
   },
   "outputs": [
    {
     "name": "stdout",
     "output_type": "stream",
     "text": [
      "0.9298245614035088\n"
     ]
    }
   ],
   "source": [
    "from random import random\n",
    "from sklearn import datasets\n",
    "from sklearn.model_selection import train_test_split\n",
    "import numpy as np\n",
    "from RandomForest import RandomForest\n",
    "\n",
    "data = datasets.load_breast_cancer()\n",
    "X = data.data\n",
    "y = data.target\n",
    "\n",
    "X_train, X_test, y_train, y_test = train_test_split(\n",
    "    X, y, test_size=0.2, random_state=1234\n",
    ")\n",
    "\n",
    "def accuracy(y_true, y_pred):\n",
    "    accuracy = np.sum(y_true == y_pred) / len(y_true)\n",
    "    return accuracy\n",
    "\n",
    "clf = RandomForest(n_trees=20)\n",
    "clf.fit(X_train, y_train)\n",
    "predictions = clf.predict(X_test)\n",
    "\n",
    "acc =  accuracy(y_test, predictions)\n",
    "print(acc)"
   ]
  },
  {
   "cell_type": "code",
   "execution_count": 5,
   "outputs": [],
   "source": [
    "data = datasets.load_breast_cancer()\n",
    "X, y = data.data, data.target\n",
    "\n",
    "X_train, X_test, y_train, y_test = train_test_split(X, y, test_size=0.25, random_state=42)\n",
    "\n",
    "def accuracy(y_true, y_pred):\n",
    "    return np.sum(y_true == y_pred) / len(y_true)"
   ],
   "metadata": {
    "collapsed": false
   }
  },
  {
   "cell_type": "code",
   "execution_count": 6,
   "outputs": [
    {
     "ename": "KeyboardInterrupt",
     "evalue": "",
     "output_type": "error",
     "traceback": [
      "\u001B[0;31m---------------------------------------------------------------------------\u001B[0m",
      "\u001B[0;31mKeyboardInterrupt\u001B[0m                         Traceback (most recent call last)",
      "Cell \u001B[0;32mIn[6], line 2\u001B[0m\n\u001B[1;32m      1\u001B[0m clf \u001B[38;5;241m=\u001B[39m RandomForest()\n\u001B[0;32m----> 2\u001B[0m \u001B[43mclf\u001B[49m\u001B[38;5;241;43m.\u001B[39;49m\u001B[43mfit\u001B[49m\u001B[43m(\u001B[49m\u001B[43mX_train\u001B[49m\u001B[43m,\u001B[49m\u001B[43m \u001B[49m\u001B[43my_train\u001B[49m\u001B[43m)\u001B[49m\n",
      "File \u001B[0;32m~/Documents/MLAlgorithmsFromScratch/RandomForest.py:20\u001B[0m, in \u001B[0;36mRandomForest.fit\u001B[0;34m(self, X, y)\u001B[0m\n\u001B[1;32m     16\u001B[0m tree \u001B[38;5;241m=\u001B[39m DecisionTree(max_depth\u001B[38;5;241m=\u001B[39m\u001B[38;5;28mself\u001B[39m\u001B[38;5;241m.\u001B[39mmax_depth,\n\u001B[1;32m     17\u001B[0m                 min_samples_split\u001B[38;5;241m=\u001B[39m\u001B[38;5;28mself\u001B[39m\u001B[38;5;241m.\u001B[39mmin_samples_split,\n\u001B[1;32m     18\u001B[0m                 n_features\u001B[38;5;241m=\u001B[39m\u001B[38;5;28mself\u001B[39m\u001B[38;5;241m.\u001B[39mn_features)\n\u001B[1;32m     19\u001B[0m X_sample, y_sample \u001B[38;5;241m=\u001B[39m \u001B[38;5;28mself\u001B[39m\u001B[38;5;241m.\u001B[39m_bootstrap_samples(X, y)\n\u001B[0;32m---> 20\u001B[0m \u001B[43mtree\u001B[49m\u001B[38;5;241;43m.\u001B[39;49m\u001B[43mfit\u001B[49m\u001B[43m(\u001B[49m\u001B[43mX_sample\u001B[49m\u001B[43m,\u001B[49m\u001B[43m \u001B[49m\u001B[43my_sample\u001B[49m\u001B[43m)\u001B[49m\n\u001B[1;32m     21\u001B[0m \u001B[38;5;28mself\u001B[39m\u001B[38;5;241m.\u001B[39mtrees\u001B[38;5;241m.\u001B[39mappend(tree)\n",
      "File \u001B[0;32m~/Documents/MLAlgorithmsFromScratch/DecisionTree.py:137\u001B[0m, in \u001B[0;36mDecisionTree.fit\u001B[0;34m(self, X, y)\u001B[0m\n\u001B[1;32m    134\u001B[0m \u001B[38;5;28;01mdef\u001B[39;00m \u001B[38;5;21mfit\u001B[39m(\u001B[38;5;28mself\u001B[39m, X, y):\n\u001B[1;32m    135\u001B[0m     \u001B[38;5;66;03m# if self.n_features is defined, make sure it is not larger than the number of independent variables we have\u001B[39;00m\n\u001B[1;32m    136\u001B[0m     \u001B[38;5;28mself\u001B[39m\u001B[38;5;241m.\u001B[39mn_features \u001B[38;5;241m=\u001B[39m X\u001B[38;5;241m.\u001B[39mshape[\u001B[38;5;241m1\u001B[39m] \u001B[38;5;28;01mif\u001B[39;00m \u001B[38;5;129;01mnot\u001B[39;00m \u001B[38;5;28mself\u001B[39m\u001B[38;5;241m.\u001B[39mn_features \u001B[38;5;28;01melse\u001B[39;00m \u001B[38;5;28mmin\u001B[39m(X\u001B[38;5;241m.\u001B[39mshape[\u001B[38;5;241m1\u001B[39m], \u001B[38;5;28mself\u001B[39m\u001B[38;5;241m.\u001B[39mn_features)\n\u001B[0;32m--> 137\u001B[0m     \u001B[38;5;28mself\u001B[39m\u001B[38;5;241m.\u001B[39mroot \u001B[38;5;241m=\u001B[39m \u001B[38;5;28;43mself\u001B[39;49m\u001B[38;5;241;43m.\u001B[39;49m\u001B[43m_grow_tree\u001B[49m\u001B[43m(\u001B[49m\u001B[43mX\u001B[49m\u001B[43m,\u001B[49m\u001B[43m \u001B[49m\u001B[43my\u001B[49m\u001B[43m)\u001B[49m\n",
      "File \u001B[0;32m~/Documents/MLAlgorithmsFromScratch/DecisionTree.py:130\u001B[0m, in \u001B[0;36mDecisionTree._grow_tree\u001B[0;34m(self, X, y, depth)\u001B[0m\n\u001B[1;32m    128\u001B[0m left_idxs, right_idxs \u001B[38;5;241m=\u001B[39m \u001B[38;5;28mself\u001B[39m\u001B[38;5;241m.\u001B[39m_split_node(X[:, best_feature], best_thres)\n\u001B[1;32m    129\u001B[0m left \u001B[38;5;241m=\u001B[39m \u001B[38;5;28mself\u001B[39m\u001B[38;5;241m.\u001B[39m_grow_tree(X[left_idxs, :], y[left_idxs], depth \u001B[38;5;241m+\u001B[39m \u001B[38;5;241m1\u001B[39m)\n\u001B[0;32m--> 130\u001B[0m right \u001B[38;5;241m=\u001B[39m \u001B[38;5;28;43mself\u001B[39;49m\u001B[38;5;241;43m.\u001B[39;49m\u001B[43m_grow_tree\u001B[49m\u001B[43m(\u001B[49m\u001B[43mX\u001B[49m\u001B[43m[\u001B[49m\u001B[43mright_idxs\u001B[49m\u001B[43m,\u001B[49m\u001B[43m \u001B[49m\u001B[43m:\u001B[49m\u001B[43m]\u001B[49m\u001B[43m,\u001B[49m\u001B[43m \u001B[49m\u001B[43my\u001B[49m\u001B[43m[\u001B[49m\u001B[43mright_idxs\u001B[49m\u001B[43m]\u001B[49m\u001B[43m,\u001B[49m\u001B[43m \u001B[49m\u001B[43mdepth\u001B[49m\u001B[43m \u001B[49m\u001B[38;5;241;43m+\u001B[39;49m\u001B[43m \u001B[49m\u001B[38;5;241;43m1\u001B[39;49m\u001B[43m)\u001B[49m\n\u001B[1;32m    132\u001B[0m \u001B[38;5;28;01mreturn\u001B[39;00m Node(best_feature, best_thres, left, right)\n",
      "File \u001B[0;32m~/Documents/MLAlgorithmsFromScratch/DecisionTree.py:125\u001B[0m, in \u001B[0;36mDecisionTree._grow_tree\u001B[0;34m(self, X, y, depth)\u001B[0m\n\u001B[1;32m    122\u001B[0m feat_idxs \u001B[38;5;241m=\u001B[39m np\u001B[38;5;241m.\u001B[39mrandom\u001B[38;5;241m.\u001B[39mchoice(n_feats, \u001B[38;5;28mself\u001B[39m\u001B[38;5;241m.\u001B[39mn_features, replace\u001B[38;5;241m=\u001B[39m\u001B[38;5;28;01mFalse\u001B[39;00m)\n\u001B[1;32m    124\u001B[0m \u001B[38;5;66;03m# find the best split\u001B[39;00m\n\u001B[0;32m--> 125\u001B[0m best_feature, best_thres \u001B[38;5;241m=\u001B[39m \u001B[38;5;28;43mself\u001B[39;49m\u001B[38;5;241;43m.\u001B[39;49m\u001B[43m_best_split\u001B[49m\u001B[43m(\u001B[49m\u001B[43mX\u001B[49m\u001B[43m,\u001B[49m\u001B[43m \u001B[49m\u001B[43my\u001B[49m\u001B[43m,\u001B[49m\u001B[43m \u001B[49m\u001B[43mfeat_idxs\u001B[49m\u001B[43m)\u001B[49m\n\u001B[1;32m    127\u001B[0m \u001B[38;5;66;03m# create child nodes\u001B[39;00m\n\u001B[1;32m    128\u001B[0m left_idxs, right_idxs \u001B[38;5;241m=\u001B[39m \u001B[38;5;28mself\u001B[39m\u001B[38;5;241m.\u001B[39m_split_node(X[:, best_feature], best_thres)\n",
      "File \u001B[0;32m~/Documents/MLAlgorithmsFromScratch/DecisionTree.py:53\u001B[0m, in \u001B[0;36mDecisionTree._best_split\u001B[0;34m(self, X, y, feature_idxs)\u001B[0m\n\u001B[1;32m     49\u001B[0m thresholds \u001B[38;5;241m=\u001B[39m np\u001B[38;5;241m.\u001B[39munique(X_col)\n\u001B[1;32m     51\u001B[0m \u001B[38;5;28;01mfor\u001B[39;00m thr \u001B[38;5;129;01min\u001B[39;00m thresholds:\n\u001B[1;32m     52\u001B[0m     \u001B[38;5;66;03m# calculate the information gain\u001B[39;00m\n\u001B[0;32m---> 53\u001B[0m     info_gain \u001B[38;5;241m=\u001B[39m \u001B[38;5;28;43mself\u001B[39;49m\u001B[38;5;241;43m.\u001B[39;49m\u001B[43m_calculate_information_gain\u001B[49m\u001B[43m(\u001B[49m\u001B[43mX_col\u001B[49m\u001B[43m,\u001B[49m\u001B[43m \u001B[49m\u001B[43my\u001B[49m\u001B[43m,\u001B[49m\u001B[43m \u001B[49m\u001B[43mthr\u001B[49m\u001B[43m)\u001B[49m\n\u001B[1;32m     55\u001B[0m     \u001B[38;5;28;01mif\u001B[39;00m info_gain \u001B[38;5;241m>\u001B[39m best_gains:\n\u001B[1;32m     56\u001B[0m         best_gains \u001B[38;5;241m=\u001B[39m info_gain\n",
      "File \u001B[0;32m~/Documents/MLAlgorithmsFromScratch/DecisionTree.py:99\u001B[0m, in \u001B[0;36mDecisionTree._calculate_information_gain\u001B[0;34m(self, X_col, y, threshold)\u001B[0m\n\u001B[1;32m     97\u001B[0m n \u001B[38;5;241m=\u001B[39m \u001B[38;5;28mlen\u001B[39m(y)\n\u001B[1;32m     98\u001B[0m n_left, n_right \u001B[38;5;241m=\u001B[39m \u001B[38;5;28mlen\u001B[39m(left_idxs), \u001B[38;5;28mlen\u001B[39m(right_idxs)\n\u001B[0;32m---> 99\u001B[0m left_entropy, right_entropy \u001B[38;5;241m=\u001B[39m \u001B[38;5;28mself\u001B[39m\u001B[38;5;241m.\u001B[39m_calculate_entropy(left_idxs), \u001B[38;5;28;43mself\u001B[39;49m\u001B[38;5;241;43m.\u001B[39;49m\u001B[43m_calculate_entropy\u001B[49m\u001B[43m(\u001B[49m\u001B[43mright_idxs\u001B[49m\u001B[43m)\u001B[49m\n\u001B[1;32m    100\u001B[0m child_entropy \u001B[38;5;241m=\u001B[39m (n_left \u001B[38;5;241m/\u001B[39m n) \u001B[38;5;241m*\u001B[39m left_entropy \u001B[38;5;241m+\u001B[39m (n_right \u001B[38;5;241m/\u001B[39m n) \u001B[38;5;241m*\u001B[39m right_entropy\n\u001B[1;32m    102\u001B[0m \u001B[38;5;66;03m# return the information gain\u001B[39;00m\n",
      "File \u001B[0;32m~/Documents/MLAlgorithmsFromScratch/DecisionTree.py:65\u001B[0m, in \u001B[0;36mDecisionTree._calculate_entropy\u001B[0;34m(self, y)\u001B[0m\n\u001B[1;32m     62\u001B[0m counts \u001B[38;5;241m=\u001B[39m np\u001B[38;5;241m.\u001B[39mbincount(y)  \u001B[38;5;66;03m# calculate the count of each label\u001B[39;00m\n\u001B[1;32m     63\u001B[0m p_values \u001B[38;5;241m=\u001B[39m counts \u001B[38;5;241m/\u001B[39m \u001B[38;5;28mlen\u001B[39m(y)  \u001B[38;5;66;03m# probability of each label\u001B[39;00m\n\u001B[0;32m---> 65\u001B[0m \u001B[38;5;28;01mreturn\u001B[39;00m np\u001B[38;5;241m.\u001B[39msum([p \u001B[38;5;241m*\u001B[39m np\u001B[38;5;241m.\u001B[39mlog(p) \u001B[38;5;28;01mfor\u001B[39;00m p \u001B[38;5;129;01min\u001B[39;00m p_values \u001B[38;5;28;01mif\u001B[39;00m p \u001B[38;5;241m>\u001B[39m \u001B[38;5;241m0\u001B[39m])\n",
      "File \u001B[0;32m~/Documents/MLAlgorithmsFromScratch/DecisionTree.py:65\u001B[0m, in \u001B[0;36m<listcomp>\u001B[0;34m(.0)\u001B[0m\n\u001B[1;32m     62\u001B[0m counts \u001B[38;5;241m=\u001B[39m np\u001B[38;5;241m.\u001B[39mbincount(y)  \u001B[38;5;66;03m# calculate the count of each label\u001B[39;00m\n\u001B[1;32m     63\u001B[0m p_values \u001B[38;5;241m=\u001B[39m counts \u001B[38;5;241m/\u001B[39m \u001B[38;5;28mlen\u001B[39m(y)  \u001B[38;5;66;03m# probability of each label\u001B[39;00m\n\u001B[0;32m---> 65\u001B[0m \u001B[38;5;28;01mreturn\u001B[39;00m np\u001B[38;5;241m.\u001B[39msum([p \u001B[38;5;241m*\u001B[39m \u001B[43mnp\u001B[49m\u001B[38;5;241;43m.\u001B[39;49m\u001B[43mlog\u001B[49m\u001B[43m(\u001B[49m\u001B[43mp\u001B[49m\u001B[43m)\u001B[49m \u001B[38;5;28;01mfor\u001B[39;00m p \u001B[38;5;129;01min\u001B[39;00m p_values \u001B[38;5;28;01mif\u001B[39;00m p \u001B[38;5;241m>\u001B[39m \u001B[38;5;241m0\u001B[39m])\n",
      "\u001B[0;31mKeyboardInterrupt\u001B[0m: "
     ]
    }
   ],
   "source": [
    "clf = RandomForest()\n",
    "clf.fit(X_train, y_train)"
   ],
   "metadata": {
    "collapsed": false
   }
  },
  {
   "cell_type": "code",
   "execution_count": 15,
   "outputs": [
    {
     "name": "stdout",
     "output_type": "stream",
     "text": [
      "[[1.799e+01 1.038e+01 1.228e+02 ... 2.654e-01 4.601e-01 1.189e-01]\n",
      " [2.057e+01 1.777e+01 1.329e+02 ... 1.860e-01 2.750e-01 8.902e-02]\n",
      " [1.969e+01 2.125e+01 1.300e+02 ... 2.430e-01 3.613e-01 8.758e-02]\n",
      " ...\n",
      " [1.660e+01 2.808e+01 1.083e+02 ... 1.418e-01 2.218e-01 7.820e-02]\n",
      " [2.060e+01 2.933e+01 1.401e+02 ... 2.650e-01 4.087e-01 1.240e-01]\n",
      " [7.760e+00 2.454e+01 4.792e+01 ... 0.000e+00 2.871e-01 7.039e-02]]\n"
     ]
    }
   ],
   "source": [],
   "metadata": {
    "collapsed": false
   }
  },
  {
   "cell_type": "code",
   "execution_count": null,
   "outputs": [],
   "source": [],
   "metadata": {
    "collapsed": false
   }
  }
 ],
 "metadata": {
  "kernelspec": {
   "display_name": "Python 3",
   "language": "python",
   "name": "python3"
  },
  "language_info": {
   "codemirror_mode": {
    "name": "ipython",
    "version": 2
   },
   "file_extension": ".py",
   "mimetype": "text/x-python",
   "name": "python",
   "nbconvert_exporter": "python",
   "pygments_lexer": "ipython2",
   "version": "2.7.6"
  }
 },
 "nbformat": 4,
 "nbformat_minor": 0
}
